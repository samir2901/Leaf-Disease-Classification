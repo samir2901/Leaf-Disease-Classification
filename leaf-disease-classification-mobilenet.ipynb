{
 "cells": [
  {
   "cell_type": "code",
   "execution_count": 1,
   "metadata": {
    "_cell_guid": "b1076dfc-b9ad-4769-8c92-a6c4dae69d19",
    "_uuid": "8f2839f25d086af736a60e9eeb907d3b93b6e0e5"
   },
   "outputs": [],
   "source": [
    "import tensorflow as tf\n",
    "from tensorflow import keras\n",
    "import matplotlib.pyplot as plt\n",
    "import numpy as np\n",
    "import os"
   ]
  },
  {
   "cell_type": "code",
   "execution_count": 2,
   "metadata": {},
   "outputs": [],
   "source": [
    "base_dir = \"../input/new-plant-diseases-dataset/new plant diseases dataset(augmented)/New Plant Diseases Dataset(Augmented)\"\n",
    "image_size = 224"
   ]
  },
  {
   "cell_type": "markdown",
   "execution_count": null,
   "metadata": {},
   "source": [
    "## Creating DataGenerator"
   ]
  },
  {
   "cell_type": "code",
   "execution_count": 3,
   "metadata": {
    "_cell_guid": "79c7e3d0-c299-4dcb-8224-4455121ee9b0",
    "_uuid": "d629ff2d2480ee46fbb7e2d37f6b5fab8052498a"
   },
   "outputs": [
    {
     "name": "stdout",
     "output_type": "stream",
     "text": [
      "Found 70295 images belonging to 38 classes.\n"
     ]
    }
   ],
   "source": [
    "train_datagen = keras.preprocessing.image.ImageDataGenerator(rescale = 1/255.0,\n",
    "                                                            shear_range = 0.2,\n",
    "                                                            zoom_range = 0.2,\n",
    "                                                            width_shift_range = 0.2,\n",
    "                                                            height_shift_range = 0.2,\n",
    "                                                            fill_mode=\"nearest\")\n",
    "batch_size = 32\n",
    "train_data = train_datagen.flow_from_directory(os.path.join(base_dir,\"train\"),\n",
    "                                               target_size=(image_size,image_size),\n",
    "                                               batch_size=batch_size,\n",
    "                                               class_mode=\"categorical\"                                               \n",
    "                                              )"
   ]
  },
  {
   "cell_type": "code",
   "execution_count": 4,
   "metadata": {},
   "outputs": [
    {
     "name": "stdout",
     "output_type": "stream",
     "text": [
      "Found 17572 images belonging to 38 classes.\n"
     ]
    }
   ],
   "source": [
    "test_datagen = keras.preprocessing.image.ImageDataGenerator(rescale = 1/255.0)\n",
    "test_data = test_datagen.flow_from_directory(os.path.join(base_dir,\"valid\"),\n",
    "                                               target_size=(image_size,image_size),\n",
    "                                               batch_size=batch_size,\n",
    "                                               class_mode=\"categorical\"                                               \n",
    "                                              )"
   ]
  },
  {
   "cell_type": "code",
   "execution_count": 5,
   "metadata": {},
   "outputs": [
    {
     "name": "stdout",
     "output_type": "stream",
     "text": [
      "['Apple___Apple_scab', 'Apple___Black_rot', 'Apple___Cedar_apple_rust', 'Apple___healthy', 'Blueberry___healthy', 'Cherry_(including_sour)___Powdery_mildew', 'Cherry_(including_sour)___healthy', 'Corn_(maize)___Cercospora_leaf_spot Gray_leaf_spot', 'Corn_(maize)___Common_rust_', 'Corn_(maize)___Northern_Leaf_Blight', 'Corn_(maize)___healthy', 'Grape___Black_rot', 'Grape___Esca_(Black_Measles)', 'Grape___Leaf_blight_(Isariopsis_Leaf_Spot)', 'Grape___healthy', 'Orange___Haunglongbing_(Citrus_greening)', 'Peach___Bacterial_spot', 'Peach___healthy', 'Pepper,_bell___Bacterial_spot', 'Pepper,_bell___healthy', 'Potato___Early_blight', 'Potato___Late_blight', 'Potato___healthy', 'Raspberry___healthy', 'Soybean___healthy', 'Squash___Powdery_mildew', 'Strawberry___Leaf_scorch', 'Strawberry___healthy', 'Tomato___Bacterial_spot', 'Tomato___Early_blight', 'Tomato___Late_blight', 'Tomato___Leaf_Mold', 'Tomato___Septoria_leaf_spot', 'Tomato___Spider_mites Two-spotted_spider_mite', 'Tomato___Target_Spot', 'Tomato___Tomato_Yellow_Leaf_Curl_Virus', 'Tomato___Tomato_mosaic_virus', 'Tomato___healthy']\n"
     ]
    }
   ],
   "source": [
    "categories = list(train_data.class_indices.keys())\n",
    "print(categories)"
   ]
  },
  {
   "cell_type": "code",
   "execution_count": 6,
   "metadata": {},
   "outputs": [
    {
     "data": {
      "text/plain": [
       "(224, 224, 3)"
      ]
     },
     "execution_count": 6,
     "metadata": {},
     "output_type": "execute_result"
    }
   ],
   "source": [
    "train_data.image_shape"
   ]
  },
  {
   "cell_type": "markdown",
   "execution_count": null,
   "metadata": {},
   "source": [
    "## Using MobileNet"
   ]
  },
  {
   "cell_type": "code",
   "execution_count": 7,
   "metadata": {},
   "outputs": [
    {
     "name": "stdout",
     "output_type": "stream",
     "text": [
      "Downloading data from https://storage.googleapis.com/tensorflow/keras-applications/mobilenet/mobilenet_1_0_224_tf_no_top.h5\n",
      "17227776/17225924 [==============================] - 0s 0us/step\n"
     ]
    }
   ],
   "source": [
    "base_model = keras.applications.MobileNet(weights=\"imagenet\",include_top=False,input_shape=(image_size,image_size,3))"
   ]
  },
  {
   "cell_type": "code",
   "execution_count": 8,
   "metadata": {},
   "outputs": [],
   "source": [
    "\n",
    "base_model.trainable = False\n",
    "inputs = keras.Input(shape=(image_size,image_size,3))\n",
    "x = base_model(inputs,training=False)\n",
    "x = keras.layers.GlobalAveragePooling2D()(x)\n",
    "x = keras.layers.Dropout(0.2)(x)\n",
    "x = keras.layers.Dense(len(categories),activation=\"softmax\")(x)\n",
    "model = keras.Model(inputs=inputs, outputs=x, name=\"LeafDisease_MobileNet\")"
   ]
  },
  {
   "cell_type": "code",
   "execution_count": 9,
   "metadata": {},
   "outputs": [
    {
     "name": "stdout",
     "output_type": "stream",
     "text": [
      "Model: \"LeafDisease_MobileNet\"\n",
      "_________________________________________________________________\n",
      "Layer (type)                 Output Shape              Param #   \n",
      "=================================================================\n",
      "input_2 (InputLayer)         [(None, 224, 224, 3)]     0         \n",
      "_________________________________________________________________\n",
      "mobilenet_1.00_224 (Model)   (None, 7, 7, 1024)        3228864   \n",
      "_________________________________________________________________\n",
      "global_average_pooling2d (Gl (None, 1024)              0         \n",
      "_________________________________________________________________\n",
      "dropout (Dropout)            (None, 1024)              0         \n",
      "_________________________________________________________________\n",
      "dense (Dense)                (None, 38)                38950     \n",
      "=================================================================\n",
      "Total params: 3,267,814\n",
      "Trainable params: 38,950\n",
      "Non-trainable params: 3,228,864\n",
      "_________________________________________________________________\n"
     ]
    }
   ],
   "source": [
    "model.summary()"
   ]
  },
  {
   "cell_type": "code",
   "execution_count": 10,
   "metadata": {},
   "outputs": [],
   "source": [
    "\n",
    "optimizer = keras.optimizers.Adam()\n",
    "model.compile(optimizer=optimizer,loss=keras.losses.CategoricalCrossentropy(from_logits=True),metrics=[keras.metrics.CategoricalAccuracy()])"
   ]
  },
  {
   "cell_type": "code",
   "execution_count": 11,
   "metadata": {},
   "outputs": [
    {
     "name": "stdout",
     "output_type": "stream",
     "text": [
      "Epoch 1/20\n",
      "150/150 [==============================] - 91s 603ms/step - loss: 3.4050 - categorical_accuracy: 0.3358 - val_loss: 3.1500 - val_categorical_accuracy: 0.6075\n",
      "Epoch 2/20\n",
      "150/150 [==============================] - 91s 610ms/step - loss: 3.0875 - categorical_accuracy: 0.6671 - val_loss: 2.9831 - val_categorical_accuracy: 0.7412\n",
      "Epoch 3/20\n",
      "150/150 [==============================] - 88s 588ms/step - loss: 2.9962 - categorical_accuracy: 0.7315 - val_loss: 2.9512 - val_categorical_accuracy: 0.7647\n",
      "Epoch 4/20\n",
      "150/150 [==============================] - 88s 589ms/step - loss: 2.9588 - categorical_accuracy: 0.7631 - val_loss: 2.9290 - val_categorical_accuracy: 0.7837\n",
      "Epoch 5/20\n",
      "150/150 [==============================] - 86s 572ms/step - loss: 2.9337 - categorical_accuracy: 0.7821 - val_loss: 2.9066 - val_categorical_accuracy: 0.7984\n",
      "Epoch 6/20\n",
      "150/150 [==============================] - 86s 575ms/step - loss: 2.9209 - categorical_accuracy: 0.7894 - val_loss: 2.8996 - val_categorical_accuracy: 0.8047\n",
      "Epoch 7/20\n",
      "150/150 [==============================] - 85s 565ms/step - loss: 2.9183 - categorical_accuracy: 0.7860 - val_loss: 2.9056 - val_categorical_accuracy: 0.7947\n",
      "Epoch 8/20\n",
      "150/150 [==============================] - 85s 567ms/step - loss: 2.9207 - categorical_accuracy: 0.7833 - val_loss: 2.8968 - val_categorical_accuracy: 0.7991\n",
      "Epoch 9/20\n",
      "150/150 [==============================] - 84s 560ms/step - loss: 2.9020 - categorical_accuracy: 0.8025 - val_loss: 2.8807 - val_categorical_accuracy: 0.8203\n",
      "Epoch 10/20\n",
      "150/150 [==============================] - 84s 561ms/step - loss: 2.8851 - categorical_accuracy: 0.8192 - val_loss: 2.8650 - val_categorical_accuracy: 0.8338\n",
      "Epoch 11/20\n",
      "150/150 [==============================] - 85s 565ms/step - loss: 2.8849 - categorical_accuracy: 0.8179 - val_loss: 2.8689 - val_categorical_accuracy: 0.8300\n",
      "Epoch 12/20\n",
      "150/150 [==============================] - 84s 557ms/step - loss: 2.8807 - categorical_accuracy: 0.8192 - val_loss: 2.8770 - val_categorical_accuracy: 0.8178\n",
      "Epoch 13/20\n",
      "150/150 [==============================] - 83s 556ms/step - loss: 2.8859 - categorical_accuracy: 0.8135 - val_loss: 2.8489 - val_categorical_accuracy: 0.8466\n",
      "Epoch 14/20\n",
      "150/150 [==============================] - 82s 546ms/step - loss: 2.8714 - categorical_accuracy: 0.8292 - val_loss: 2.8665 - val_categorical_accuracy: 0.8319\n",
      "Epoch 15/20\n",
      "150/150 [==============================] - 82s 545ms/step - loss: 2.8663 - categorical_accuracy: 0.8331 - val_loss: 2.8650 - val_categorical_accuracy: 0.8309\n",
      "Epoch 16/20\n",
      "150/150 [==============================] - 83s 553ms/step - loss: 2.8600 - categorical_accuracy: 0.8379 - val_loss: 2.8444 - val_categorical_accuracy: 0.8481\n",
      "Epoch 17/20\n",
      "150/150 [==============================] - 81s 541ms/step - loss: 2.8660 - categorical_accuracy: 0.8288 - val_loss: 2.8446 - val_categorical_accuracy: 0.8500\n",
      "Epoch 18/20\n",
      "150/150 [==============================] - 82s 547ms/step - loss: 2.8745 - categorical_accuracy: 0.8200 - val_loss: 2.8580 - val_categorical_accuracy: 0.8319\n",
      "Epoch 19/20\n",
      "150/150 [==============================] - 81s 543ms/step - loss: 2.8631 - categorical_accuracy: 0.8313 - val_loss: 2.8608 - val_categorical_accuracy: 0.8300\n",
      "Epoch 20/20\n",
      "150/150 [==============================] - 82s 544ms/step - loss: 2.8574 - categorical_accuracy: 0.8369 - val_loss: 2.8424 - val_categorical_accuracy: 0.8475\n"
     ]
    }
   ],
   "source": [
    "history = model.fit_generator(train_data,\n",
    "          validation_data=test_data,\n",
    "          epochs=20,\n",
    "          steps_per_epoch=150,\n",
    "          validation_steps=100\n",
    "         )"
   ]
  },
  {
   "cell_type": "code",
   "execution_count": 12,
   "metadata": {},
   "outputs": [
    {
     "name": "stdout",
     "output_type": "stream",
     "text": [
      "550/550 [==============================] - 51s 92ms/step - loss: 2.8491 - categorical_accuracy: 0.8418\n"
     ]
    },
    {
     "data": {
      "text/plain": [
       "[2.8490724563598633, 0.8417937755584717]"
      ]
     },
     "execution_count": 12,
     "metadata": {},
     "output_type": "execute_result"
    }
   ],
   "source": [
    "model.evaluate(test_data)"
   ]
  },
  {
   "cell_type": "code",
   "execution_count": 13,
   "metadata": {},
   "outputs": [],
   "source": [
    "model.save('leaf-cnn.h5')"
   ]
  },
  {
   "cell_type": "code",
   "execution_count": null,
   "metadata": {},
   "outputs": [],
   "source": []
  }
 ],
 "metadata": {
  "kernelspec": {
   "display_name": "Python 3",
   "language": "python",
   "name": "python3"
  },
  "language_info": {
   "codemirror_mode": {
    "name": "ipython",
    "version": 3
   },
   "file_extension": ".py",
   "mimetype": "text/x-python",
   "name": "python",
   "nbconvert_exporter": "python",
   "pygments_lexer": "ipython3",
   "version": "3.7.6"
  }
 },
 "nbformat": 4,
 "nbformat_minor": 4
}
