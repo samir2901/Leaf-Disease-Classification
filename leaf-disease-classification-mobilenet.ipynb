{
 "cells": [
  {
   "cell_type": "code",
   "execution_count": 1,
   "metadata": {
    "_cell_guid": "b1076dfc-b9ad-4769-8c92-a6c4dae69d19",
    "_uuid": "8f2839f25d086af736a60e9eeb907d3b93b6e0e5"
   },
   "outputs": [],
   "source": [
    "import tensorflow as tf\n",
    "from tensorflow import keras\n",
    "import matplotlib.pyplot as plt\n",
    "import numpy as np\n",
    "import os"
   ]
  },
  {
   "cell_type": "code",
   "execution_count": 2,
   "metadata": {},
   "outputs": [],
   "source": [
    "base_dir = \"../input/new-plant-diseases-dataset/new plant diseases dataset(augmented)/New Plant Diseases Dataset(Augmented)\"\n",
    "image_size = 224"
   ]
  },
  {
   "cell_type": "markdown",
   "execution_count": null,
   "metadata": {},
   "source": [
    "## Creating DataGenerator"
   ]
  },
  {
   "cell_type": "code",
   "execution_count": 3,
   "metadata": {
    "_cell_guid": "79c7e3d0-c299-4dcb-8224-4455121ee9b0",
    "_uuid": "d629ff2d2480ee46fbb7e2d37f6b5fab8052498a"
   },
   "outputs": [
    {
     "name": "stdout",
     "output_type": "stream",
     "text": [
      "Found 70295 images belonging to 38 classes.\n"
     ]
    }
   ],
   "source": [
    "train_datagen = keras.preprocessing.image.ImageDataGenerator(rescale = 1/255.0,\n",
    "                                                            shear_range = 0.2,\n",
    "                                                            zoom_range = 0.2,\n",
    "                                                            width_shift_range = 0.2,\n",
    "                                                            height_shift_range = 0.2,\n",
    "                                                            fill_mode=\"nearest\")\n",
    "batch_size = 32\n",
    "train_data = train_datagen.flow_from_directory(os.path.join(base_dir,\"train\"),\n",
    "                                               target_size=(image_size,image_size),\n",
    "                                               batch_size=batch_size,\n",
    "                                               class_mode=\"categorical\"                                               \n",
    "                                              )"
   ]
  },
  {
   "cell_type": "code",
   "execution_count": 4,
   "metadata": {},
   "outputs": [
    {
     "name": "stdout",
     "output_type": "stream",
     "text": [
      "Found 17572 images belonging to 38 classes.\n"
     ]
    }
   ],
   "source": [
    "test_datagen = keras.preprocessing.image.ImageDataGenerator(rescale = 1/255.0)\n",
    "test_data = test_datagen.flow_from_directory(os.path.join(base_dir,\"valid\"),\n",
    "                                               target_size=(image_size,image_size),\n",
    "                                               batch_size=batch_size,\n",
    "                                               class_mode=\"categorical\"                                               \n",
    "                                              )"
   ]
  },
  {
   "cell_type": "code",
   "execution_count": 5,
   "metadata": {},
   "outputs": [
    {
     "name": "stdout",
     "output_type": "stream",
     "text": [
      "['Apple___Apple_scab', 'Apple___Black_rot', 'Apple___Cedar_apple_rust', 'Apple___healthy', 'Blueberry___healthy', 'Cherry_(including_sour)___Powdery_mildew', 'Cherry_(including_sour)___healthy', 'Corn_(maize)___Cercospora_leaf_spot Gray_leaf_spot', 'Corn_(maize)___Common_rust_', 'Corn_(maize)___Northern_Leaf_Blight', 'Corn_(maize)___healthy', 'Grape___Black_rot', 'Grape___Esca_(Black_Measles)', 'Grape___Leaf_blight_(Isariopsis_Leaf_Spot)', 'Grape___healthy', 'Orange___Haunglongbing_(Citrus_greening)', 'Peach___Bacterial_spot', 'Peach___healthy', 'Pepper,_bell___Bacterial_spot', 'Pepper,_bell___healthy', 'Potato___Early_blight', 'Potato___Late_blight', 'Potato___healthy', 'Raspberry___healthy', 'Soybean___healthy', 'Squash___Powdery_mildew', 'Strawberry___Leaf_scorch', 'Strawberry___healthy', 'Tomato___Bacterial_spot', 'Tomato___Early_blight', 'Tomato___Late_blight', 'Tomato___Leaf_Mold', 'Tomato___Septoria_leaf_spot', 'Tomato___Spider_mites Two-spotted_spider_mite', 'Tomato___Target_Spot', 'Tomato___Tomato_Yellow_Leaf_Curl_Virus', 'Tomato___Tomato_mosaic_virus', 'Tomato___healthy']\n"
     ]
    }
   ],
   "source": [
    "categories = list(train_data.class_indices.keys())\n",
    "print(categories)"
   ]
  },
  {
   "cell_type": "code",
   "execution_count": 6,
   "metadata": {},
   "outputs": [
    {
     "data": {
      "text/plain": [
       "(224, 224, 3)"
      ]
     },
     "execution_count": 6,
     "metadata": {},
     "output_type": "execute_result"
    }
   ],
   "source": [
    "train_data.image_shape"
   ]
  },
  {
   "cell_type": "markdown",
   "execution_count": null,
   "metadata": {},
   "source": [
    "## Using MobileNet"
   ]
  },
  {
   "cell_type": "code",
   "execution_count": 7,
   "metadata": {},
   "outputs": [
    {
     "name": "stdout",
     "output_type": "stream",
     "text": [
      "Downloading data from https://storage.googleapis.com/tensorflow/keras-applications/mobilenet/mobilenet_1_0_224_tf_no_top.h5\n",
      "17227776/17225924 [==============================] - 0s 0us/step\n"
     ]
    }
   ],
   "source": [
    "base_model = keras.applications.MobileNet(weights=\"imagenet\",include_top=False,input_shape=(image_size,image_size,3))"
   ]
  },
  {
   "cell_type": "code",
   "execution_count": 8,
   "metadata": {},
   "outputs": [],
   "source": [
    "\n",
    "base_model.trainable = False\n",
    "inputs = keras.Input(shape=(image_size,image_size,3))\n",
    "x = base_model(inputs,training=False)\n",
    "x = keras.layers.GlobalAveragePooling2D()(x)\n",
    "x = keras.layers.Dropout(0.2)(x)\n",
    "x = keras.layers.Dense(len(categories),activation=\"softmax\")(x)\n",
    "model = keras.Model(inputs=inputs, outputs=x, name=\"LeafDisease_MobileNet\")"
   ]
  },
  {
   "cell_type": "code",
   "execution_count": 9,
   "metadata": {},
   "outputs": [
    {
     "name": "stdout",
     "output_type": "stream",
     "text": [
      "Model: \"LeafDisease_MobileNet\"\n",
      "_________________________________________________________________\n",
      "Layer (type)                 Output Shape              Param #   \n",
      "=================================================================\n",
      "input_2 (InputLayer)         [(None, 224, 224, 3)]     0         \n",
      "_________________________________________________________________\n",
      "mobilenet_1.00_224 (Model)   (None, 7, 7, 1024)        3228864   \n",
      "_________________________________________________________________\n",
      "global_average_pooling2d (Gl (None, 1024)              0         \n",
      "_________________________________________________________________\n",
      "dropout (Dropout)            (None, 1024)              0         \n",
      "_________________________________________________________________\n",
      "dense (Dense)                (None, 38)                38950     \n",
      "=================================================================\n",
      "Total params: 3,267,814\n",
      "Trainable params: 38,950\n",
      "Non-trainable params: 3,228,864\n",
      "_________________________________________________________________\n"
     ]
    }
   ],
   "source": [
    "model.summary()"
   ]
  },
  {
   "cell_type": "code",
   "execution_count": 10,
   "metadata": {},
   "outputs": [],
   "source": [
    "\n",
    "optimizer = keras.optimizers.Adam()\n",
    "model.compile(optimizer=optimizer,loss=keras.losses.CategoricalCrossentropy(from_logits=True),metrics=[keras.metrics.CategoricalAccuracy()])"
   ]
  },
  {
   "cell_type": "code",
   "execution_count": 11,
   "metadata": {},
   "outputs": [
    {
     "name": "stdout",
     "output_type": "stream",
     "text": [
      "Epoch 1/20\n",
      "150/150 [==============================] - 90s 599ms/step - loss: 3.4448 - categorical_accuracy: 0.2738 - val_loss: 3.1985 - val_categorical_accuracy: 0.5425\n",
      "Epoch 2/20\n",
      "150/150 [==============================] - 85s 569ms/step - loss: 3.1931 - categorical_accuracy: 0.5333 - val_loss: 3.1464 - val_categorical_accuracy: 0.5600\n",
      "Epoch 3/20\n",
      "150/150 [==============================] - 85s 569ms/step - loss: 3.1089 - categorical_accuracy: 0.6100 - val_loss: 3.0553 - val_categorical_accuracy: 0.6531\n",
      "Epoch 4/20\n",
      "150/150 [==============================] - 82s 549ms/step - loss: 3.0549 - categorical_accuracy: 0.6581 - val_loss: 3.0090 - val_categorical_accuracy: 0.6953\n",
      "Epoch 5/20\n",
      "150/150 [==============================] - 83s 554ms/step - loss: 3.0161 - categorical_accuracy: 0.6935 - val_loss: 3.0078 - val_categorical_accuracy: 0.6919\n",
      "Epoch 6/20\n",
      "150/150 [==============================] - 81s 541ms/step - loss: 2.9912 - categorical_accuracy: 0.7171 - val_loss: 2.9668 - val_categorical_accuracy: 0.7356\n",
      "Epoch 7/20\n",
      "150/150 [==============================] - 81s 539ms/step - loss: 2.9627 - categorical_accuracy: 0.7477 - val_loss: 2.9264 - val_categorical_accuracy: 0.7734\n",
      "Epoch 8/20\n",
      "150/150 [==============================] - 83s 553ms/step - loss: 2.9379 - categorical_accuracy: 0.7692 - val_loss: 2.9074 - val_categorical_accuracy: 0.7950\n",
      "Epoch 9/20\n",
      "150/150 [==============================] - 81s 538ms/step - loss: 2.9295 - categorical_accuracy: 0.7756 - val_loss: 2.8939 - val_categorical_accuracy: 0.8037\n",
      "Epoch 10/20\n",
      "150/150 [==============================] - 79s 526ms/step - loss: 2.9159 - categorical_accuracy: 0.7867 - val_loss: 2.8882 - val_categorical_accuracy: 0.8141\n",
      "Epoch 11/20\n",
      "150/150 [==============================] - 78s 523ms/step - loss: 2.8974 - categorical_accuracy: 0.8098 - val_loss: 2.8772 - val_categorical_accuracy: 0.8219\n",
      "Epoch 12/20\n",
      "150/150 [==============================] - 78s 521ms/step - loss: 2.9053 - categorical_accuracy: 0.7954 - val_loss: 2.8703 - val_categorical_accuracy: 0.8300\n",
      "Epoch 13/20\n",
      "150/150 [==============================] - 77s 516ms/step - loss: 2.8839 - categorical_accuracy: 0.8192 - val_loss: 2.8748 - val_categorical_accuracy: 0.8222\n",
      "Epoch 14/20\n",
      "150/150 [==============================] - 78s 517ms/step - loss: 2.8881 - categorical_accuracy: 0.8119 - val_loss: 2.8681 - val_categorical_accuracy: 0.8316\n",
      "Epoch 15/20\n",
      "150/150 [==============================] - 77s 510ms/step - loss: 2.8830 - categorical_accuracy: 0.8146 - val_loss: 2.8735 - val_categorical_accuracy: 0.8203\n",
      "Epoch 16/20\n",
      "150/150 [==============================] - 76s 506ms/step - loss: 2.8890 - categorical_accuracy: 0.8112 - val_loss: 2.8734 - val_categorical_accuracy: 0.8194\n",
      "Epoch 17/20\n",
      "150/150 [==============================] - 75s 501ms/step - loss: 2.8734 - categorical_accuracy: 0.8217 - val_loss: 2.8646 - val_categorical_accuracy: 0.8309\n",
      "Epoch 18/20\n",
      "150/150 [==============================] - 77s 515ms/step - loss: 2.8815 - categorical_accuracy: 0.8140 - val_loss: 2.8605 - val_categorical_accuracy: 0.8334\n",
      "Epoch 19/20\n",
      "150/150 [==============================] - 74s 496ms/step - loss: 2.8572 - categorical_accuracy: 0.8425 - val_loss: 2.8237 - val_categorical_accuracy: 0.8694\n",
      "Epoch 20/20\n",
      "150/150 [==============================] - 75s 499ms/step - loss: 2.8387 - categorical_accuracy: 0.8608 - val_loss: 2.8237 - val_categorical_accuracy: 0.8709\n"
     ]
    }
   ],
   "source": [
    "history = model.fit_generator(train_data,\n",
    "          validation_data=test_data,\n",
    "          epochs=20,\n",
    "          steps_per_epoch=150,\n",
    "          validation_steps=100\n",
    "         )"
   ]
  },
  {
   "cell_type": "code",
   "execution_count": 12,
   "metadata": {},
   "outputs": [
    {
     "name": "stdout",
     "output_type": "stream",
     "text": [
      "550/550 [==============================] - 50s 90ms/step - loss: 2.8157 - categorical_accuracy: 0.8794\n"
     ]
    },
    {
     "data": {
      "text/plain": [
       "[2.8156983852386475, 0.8793535232543945]"
      ]
     },
     "execution_count": 12,
     "metadata": {},
     "output_type": "execute_result"
    }
   ],
   "source": [
    "model.evaluate(test_data)"
   ]
  },
  {
   "cell_type": "code",
   "execution_count": 13,
   "metadata": {},
   "outputs": [],
   "source": [
    "model.save('leaf-cnn.h5')"
   ]
  },
  {
   "cell_type": "code",
   "execution_count": 14,
   "metadata": {},
   "outputs": [
    {
     "data": {
      "text/plain": [
       "<matplotlib.legend.Legend at 0x7f107c163090>"
      ]
     },
     "execution_count": 14,
     "metadata": {},
     "output_type": "execute_result"
    },
    {
     "data": {
      "image/png": "[encoded data removed]",
      "text/plain": [
       "<Figure size 720x432 with 1 Axes>"
      ]
     },
     "metadata": {
      "needs_background": "light"
     },
     "output_type": "display_data"
    }
   ],
   "source": [
    "loss = history.history['loss']\n",
    "val_loss = history.history['val_loss']\n",
    "\n",
    "epochs = range(len(loss))\n",
    "\n",
    "fig = plt.figure(figsize=(10,6))\n",
    "plt.plot(epochs,loss,c=\"red\",label=\"Training\")\n",
    "plt.plot(epochs,val_loss,c=\"blue\",label=\"Validation\")\n",
    "plt.xlabel(\"Epochs\")\n",
    "plt.ylabel(\"Loss\")\n",
    "plt.legend()"
   ]
  },
  {
   "cell_type": "code",
   "execution_count": 15,
   "metadata": {},
   "outputs": [
    {
     "data": {
      "text/plain": [
       "<matplotlib.legend.Legend at 0x7f107c08f510>"
      ]
     },
     "execution_count": 15,
     "metadata": {},
     "output_type": "execute_result"
    },
    {
     "data": {
      "image/png": "[encoded data removed]",
      "text/plain": [
       "<Figure size 720x432 with 1 Axes>"
      ]
     },
     "metadata": {
      "needs_background": "light"
     },
     "output_type": "display_data"
    }
   ],
   "source": [
    "acc = history.history['categorical_accuracy']\n",
    "val_acc = history.history['val_categorical_accuracy']\n",
    "\n",
    "epochs = range(len(acc))\n",
    "\n",
    "fig = plt.figure(figsize=(10,6))\n",
    "plt.plot(epochs,acc,c=\"red\",label=\"Training\")\n",
    "plt.plot(epochs,val_acc,c=\"blue\",label=\"Validation\")\n",
    "plt.xlabel(\"Epochs\")\n",
    "plt.ylabel(\"Accuracy\")\n",
    "plt.legend()"
   ]
  }
 ],
 "metadata": {
  "kernelspec": {
   "display_name": "Python 3",
   "language": "python",
   "name": "python3"
  },
  "language_info": {
   "codemirror_mode": {
    "name": "ipython",
    "version": 3
   },
   "file_extension": ".py",
   "mimetype": "text/x-python",
   "name": "python",
   "nbconvert_exporter": "python",
   "pygments_lexer": "ipython3",
   "version": "3.7.6"
  }
 },
 "nbformat": 4,
 "nbformat_minor": 4
}
